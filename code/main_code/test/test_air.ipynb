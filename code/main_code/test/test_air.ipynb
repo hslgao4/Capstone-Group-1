{
 "cells": [
  {
   "cell_type": "code",
   "id": "initial_id",
   "metadata": {
    "collapsed": true,
    "ExecuteTime": {
     "end_time": "2024-12-03T16:33:39.986137Z",
     "start_time": "2024-12-03T16:33:39.982100Z"
    }
   },
   "source": [
    "import sys\n",
    "sys.path.append('../../component')\n",
    "from utils import *\n",
    "from run_EDA import run_eda\n",
    "from run_ARIMA import run_arima\n",
    "from run_LSTM import set_data, run_lstm, lstm_eval\n",
    "import os\n",
    "os.getcwd()"
   ],
   "outputs": [
    {
     "data": {
      "text/plain": [
       "'/home/ubuntu/Capstone_Group_1/code/main_code/test'"
      ]
     },
     "execution_count": 8,
     "metadata": {},
     "output_type": "execute_result"
    }
   ],
   "execution_count": 8
  },
  {
   "metadata": {
    "ExecuteTime": {
     "end_time": "2024-12-03T16:33:47.995469Z",
     "start_time": "2024-12-03T16:33:47.992966Z"
    }
   },
   "cell_type": "code",
   "source": [
    "'''EDA'''\n",
    "path = '../../data/air_pollution.csv'\n",
    "target = 'pollution'\n",
    "# ts_plt, acf, acf_pacf, rolling_mean_var, decomposition = run_eda(path, 100, 24)"
   ],
   "id": "b011c1a67ae71b7d",
   "outputs": [],
   "execution_count": 9
  },
  {
   "metadata": {},
   "cell_type": "code",
   "outputs": [],
   "execution_count": null,
   "source": [
    "df_train, df_test, train, test = prepare_arima_data(path, target)\n",
    "print('Train shape', train.shape, '\\nTest shape', test.shape)"
   ],
   "id": "436cebbc76d22a09"
  },
  {
   "metadata": {},
   "cell_type": "code",
   "outputs": [],
   "execution_count": null,
   "source": [
    "study_ar, best_order_list_ar = optuna_search_ARIMA(train, test,\n",
    "                                                   ar_max=20, ma_max=None, integ_order=None,\n",
    "                                                   objective=ARIMA_objective, n_trials=30)\n",
    "# ar=5"
   ],
   "id": "ada6a07e9d0efdd7"
  },
  {
   "metadata": {},
   "cell_type": "code",
   "outputs": [],
   "execution_count": null,
   "source": [
    "study_ar, best_order_list_ar = optuna_search_ARIMA(train, test,\n",
    "                                                   ar_max=None, ma_max=20, integ_order=None,\n",
    "                                                   objective=ARIMA_objective, n_trials=30)\n",
    "# ma= 20"
   ],
   "id": "d44700610c769835"
  },
  {
   "metadata": {},
   "cell_type": "code",
   "outputs": [],
   "execution_count": null,
   "source": [
    "study_ar, best_order_list_ar = optuna_search_ARIMA(train, test,\n",
    "                                                   ar_max=20, ma_max=20, integ_order=None,\n",
    "                                                   objective=ARIMA_objective, n_trials=30)\n",
    "# arma = (2,6)"
   ],
   "id": "e936cc4a45f3c803"
  },
  {
   "metadata": {},
   "cell_type": "code",
   "outputs": [],
   "execution_count": null,
   "source": [
    "study_ar, best_order_list_ar = optuna_search_ARIMA(train, test,\n",
    "                                                   ar_max=20, ma_max=20, integ_order=1,\n",
    "                                                   objective=ARIMA_objective, n_trials=20)\n",
    "# arima(10, 1, 12)"
   ],
   "id": "f2cde47c9dc6c19e"
  },
  {
   "metadata": {},
   "cell_type": "code",
   "outputs": [],
   "execution_count": null,
   "source": [
    "study_ar, best_order_list_ar = optuna_search_ARIMA(train, test,\n",
    "                                                   ar_max=20, ma_max=20, integ_order=2,\n",
    "                                                   objective=ARIMA_objective, n_trials=20)"
   ],
   "id": "c50ef587397b40e9"
  },
  {
   "metadata": {
    "ExecuteTime": {
     "end_time": "2024-12-03T16:33:56.765988Z",
     "start_time": "2024-12-03T16:33:56.763583Z"
    }
   },
   "cell_type": "code",
   "source": [
    "path = '../../data/air_pollution.csv'\n",
    "target = 'pollution'\n",
    "dataset = 'air'\n",
    "seq_length = 6"
   ],
   "id": "aedb6e33f6d58e89",
   "outputs": [],
   "execution_count": 10
  },
  {
   "metadata": {
    "ExecuteTime": {
     "end_time": "2024-12-03T16:35:32.266158Z",
     "start_time": "2024-12-03T16:33:58.338197Z"
    }
   },
   "cell_type": "code",
   "source": [
    "model_name = 'lstm'\n",
    "\n",
    "train_loader, test_loader, scaler, actual_test = set_data(path, target, seq_length)\n",
    "model = run_lstm(dataset, train_loader, model_name)\n",
    "predictions = lstm_eval(model_name, dataset, model, test_loader, scaler)\n",
    "MSE(actual_test, predictions)"
   ],
   "id": "81eb029c2e25aa35",
   "outputs": [
    {
     "name": "stdout",
     "output_type": "stream",
     "text": [
      "seq_length: 6\n",
      "Epoch [1/100], Loss: 0.01438847\n",
      "Epoch [11/100], Loss: 0.00318196\n",
      "Epoch [21/100], Loss: 0.00306295\n",
      "Epoch [31/100], Loss: 0.00305557\n",
      "Epoch [41/100], Loss: 0.00304261\n",
      "Epoch [51/100], Loss: 0.00302920\n",
      "Epoch [61/100], Loss: 0.00302273\n",
      "Epoch [71/100], Loss: 0.00301390\n",
      "Epoch [81/100], Loss: 0.00300194\n",
      "Epoch [91/100], Loss: 0.00299915\n",
      "loss: 0.0022957302272265806\n"
     ]
    },
    {
     "data": {
      "text/plain": [
       "567.47565"
      ]
     },
     "execution_count": 11,
     "metadata": {},
     "output_type": "execute_result"
    }
   ],
   "execution_count": 11
  },
  {
   "metadata": {
    "ExecuteTime": {
     "end_time": "2024-12-03T16:41:01.550324Z",
     "start_time": "2024-12-03T16:39:23.987846Z"
    }
   },
   "cell_type": "code",
   "source": [
    "'''BiLSTM'''\n",
    "model_name='Bilstm'\n",
    "\n",
    "train_loader, test_loader, scaler, actual_test = set_data(path, target, seq_length)\n",
    "model = run_lstm(dataset, train_loader, model_name)\n",
    "predictions = lstm_eval(model_name, dataset, model, test_loader, scaler)\n",
    "MSE(actual_test, predictions)"
   ],
   "id": "a9370a67aad2b129",
   "outputs": [
    {
     "name": "stdout",
     "output_type": "stream",
     "text": [
      "seq_length: 6\n",
      "Epoch [1/100], Loss: 0.00963149\n",
      "Epoch [11/100], Loss: 0.00313107\n",
      "Epoch [21/100], Loss: 0.00310238\n",
      "Epoch [31/100], Loss: 0.00309026\n",
      "Epoch [41/100], Loss: 0.00307728\n",
      "Epoch [51/100], Loss: 0.00307343\n",
      "Epoch [61/100], Loss: 0.00305331\n",
      "Epoch [71/100], Loss: 0.00303812\n",
      "Epoch [81/100], Loss: 0.00302463\n",
      "Epoch [91/100], Loss: 0.00300507\n",
      "loss: 0.0022972918071689596\n"
     ]
    },
    {
     "data": {
      "text/plain": [
       "567.9334"
      ]
     },
     "execution_count": 12,
     "metadata": {},
     "output_type": "execute_result"
    }
   ],
   "execution_count": 12
  },
  {
   "metadata": {
    "ExecuteTime": {
     "end_time": "2024-12-03T16:44:54.646855Z",
     "start_time": "2024-12-03T16:42:50.627310Z"
    }
   },
   "cell_type": "code",
   "source": [
    "# '''Seq2seq'''\n",
    "model_name='seq2seq'\n",
    "\n",
    "train_loader, test_loader, scaler, actual_test = set_data(path, target, seq_length)\n",
    "model = run_lstm(dataset, train_loader, model_name)\n",
    "predictions = lstm_eval(model_name, dataset, model, test_loader, scaler)\n",
    "MSE(actual_test, predictions)"
   ],
   "id": "778214ec0686687c",
   "outputs": [
    {
     "name": "stdout",
     "output_type": "stream",
     "text": [
      "seq_length: 6\n",
      "Epoch [1/100], Loss: 0.34700999\n",
      "Epoch [11/100], Loss: 0.00701344\n",
      "Epoch [21/100], Loss: 0.00319047\n",
      "Epoch [31/100], Loss: 0.00307617\n",
      "Epoch [41/100], Loss: 0.00303145\n",
      "Epoch [51/100], Loss: 0.00299288\n",
      "Epoch [61/100], Loss: 0.00297894\n",
      "Epoch [71/100], Loss: 0.00295444\n",
      "Epoch [81/100], Loss: 0.00295331\n",
      "Epoch [91/100], Loss: 0.00294283\n",
      "loss: 0.0022719858646176863\n"
     ]
    },
    {
     "data": {
      "text/plain": [
       "561.4092"
      ]
     },
     "execution_count": 13,
     "metadata": {},
     "output_type": "execute_result"
    }
   ],
   "execution_count": 13
  },
  {
   "metadata": {
    "ExecuteTime": {
     "end_time": "2024-12-03T17:05:07.062159Z",
     "start_time": "2024-12-03T17:02:04.168952Z"
    }
   },
   "cell_type": "code",
   "source": [
    "# transformer\n",
    "from run_Transformer import set_data, run_transformer, transformer_eval\n",
    "epoches = 100\n",
    "batch_size = 128\n",
    "\n",
    "train_loader, test_loader, scaler, actual_test = set_data(path, target, seq_length, batch_size)\n",
    "model = run_transformer(dataset, train_loader, epoches)\n",
    "predictions = transformer_eval(dataset, model, test_loader, scaler)"
   ],
   "id": "b07179ea6ac86790",
   "outputs": [
    {
     "name": "stderr",
     "output_type": "stream",
     "text": [
      "/usr/local/lib/python3.12/dist-packages/torch/nn/modules/transformer.py:306: UserWarning: enable_nested_tensor is True, but self.use_nested_tensor is False because encoder_layer.self_attn.batch_first was not True(use batch_first for better inference performance)\n",
      "  warnings.warn(f\"enable_nested_tensor is True, but self.use_nested_tensor is False because {why_not_sparsity_fast_path}\")\n"
     ]
    },
    {
     "name": "stdout",
     "output_type": "stream",
     "text": [
      "Epoch [1/100], Loss: 0.15204365\n",
      "Epoch [2/100], Loss: 0.11337165\n",
      "Epoch [3/100], Loss: 0.11220503\n",
      "Epoch [4/100], Loss: 0.10771646\n",
      "Epoch [5/100], Loss: 0.10975426\n",
      "Epoch [6/100], Loss: 0.10838039\n",
      "Epoch [7/100], Loss: 0.10729875\n",
      "Epoch [8/100], Loss: 0.10694123\n",
      "Epoch [9/100], Loss: 0.10787284\n",
      "Epoch [10/100], Loss: 0.10622192\n",
      "Epoch [11/100], Loss: 0.10556160\n",
      "Epoch [12/100], Loss: 0.10540753\n",
      "Epoch [13/100], Loss: 0.10694096\n",
      "Epoch [14/100], Loss: 0.10476805\n",
      "Epoch [15/100], Loss: 0.10369814\n",
      "Epoch [16/100], Loss: 0.10367380\n",
      "Epoch [17/100], Loss: 0.10488451\n",
      "Epoch [18/100], Loss: 0.10390893\n",
      "Epoch [19/100], Loss: 0.10387128\n",
      "Epoch [20/100], Loss: 0.10222879\n",
      "Epoch [21/100], Loss: 0.10371196\n",
      "Epoch [22/100], Loss: 0.10267240\n",
      "Epoch [23/100], Loss: 0.10233315\n",
      "Epoch [24/100], Loss: 0.10269421\n",
      "Epoch [25/100], Loss: 0.10348417\n",
      "Epoch [26/100], Loss: 0.10139573\n",
      "Epoch [27/100], Loss: 0.10192014\n",
      "Epoch [28/100], Loss: 0.10295502\n",
      "Epoch [29/100], Loss: 0.10174821\n",
      "Epoch [30/100], Loss: 0.10107213\n",
      "Epoch [31/100], Loss: 0.10143899\n",
      "Epoch [32/100], Loss: 0.10038560\n",
      "Epoch [33/100], Loss: 0.10189884\n",
      "Epoch [34/100], Loss: 0.10009172\n",
      "Epoch [35/100], Loss: 0.10049916\n",
      "Epoch [36/100], Loss: 0.10104785\n",
      "Epoch [37/100], Loss: 0.10020710\n",
      "Epoch [38/100], Loss: 0.09977837\n",
      "Epoch [39/100], Loss: 0.10177029\n",
      "Epoch [40/100], Loss: 0.10055502\n",
      "Epoch [41/100], Loss: 0.10089536\n",
      "Epoch [42/100], Loss: 0.10013592\n",
      "Epoch [43/100], Loss: 0.09994145\n",
      "Epoch [44/100], Loss: 0.10028000\n",
      "Epoch [45/100], Loss: 0.10057966\n",
      "Epoch [46/100], Loss: 0.10107742\n",
      "Epoch [47/100], Loss: 0.10002790\n",
      "Epoch [48/100], Loss: 0.09990460\n",
      "Epoch [49/100], Loss: 0.09851186\n",
      "Epoch [50/100], Loss: 0.09816315\n",
      "Epoch [51/100], Loss: 0.09904725\n",
      "Epoch [52/100], Loss: 0.09934150\n",
      "Epoch [53/100], Loss: 0.09863347\n",
      "Epoch [54/100], Loss: 0.10103747\n",
      "Epoch [55/100], Loss: 0.09941554\n",
      "Epoch [56/100], Loss: 0.09891770\n",
      "Epoch [57/100], Loss: 0.10108645\n",
      "Epoch [58/100], Loss: 0.09869216\n",
      "Epoch [59/100], Loss: 0.10052817\n",
      "Epoch [60/100], Loss: 0.09956522\n",
      "Epoch [61/100], Loss: 0.09805613\n",
      "Epoch [62/100], Loss: 0.09984548\n",
      "Epoch [63/100], Loss: 0.09849032\n",
      "Epoch [64/100], Loss: 0.09916477\n",
      "Epoch [65/100], Loss: 0.09802880\n",
      "Epoch [66/100], Loss: 0.09955316\n",
      "Epoch [67/100], Loss: 0.09847668\n",
      "Epoch [68/100], Loss: 0.09897984\n",
      "Epoch [69/100], Loss: 0.09787446\n",
      "Epoch [70/100], Loss: 0.09793335\n",
      "Epoch [71/100], Loss: 0.09969817\n",
      "Epoch [72/100], Loss: 0.09982670\n",
      "Epoch [73/100], Loss: 0.09798262\n",
      "Epoch [74/100], Loss: 0.09876345\n",
      "Epoch [75/100], Loss: 0.09747799\n",
      "Epoch [76/100], Loss: 0.09895027\n",
      "Epoch [77/100], Loss: 0.09860249\n",
      "Epoch [78/100], Loss: 0.09940884\n",
      "Epoch [79/100], Loss: 0.09947861\n",
      "Epoch [80/100], Loss: 0.09816349\n",
      "Epoch [81/100], Loss: 0.09747017\n",
      "Epoch [82/100], Loss: 0.09794200\n",
      "Epoch [83/100], Loss: 0.09813023\n",
      "Epoch [84/100], Loss: 0.09842849\n",
      "Epoch [85/100], Loss: 0.09832953\n",
      "Epoch [86/100], Loss: 0.09803295\n",
      "Epoch [87/100], Loss: 0.09943251\n",
      "Epoch [88/100], Loss: 0.09989252\n",
      "Epoch [89/100], Loss: 0.09888819\n",
      "Epoch [90/100], Loss: 0.09937992\n",
      "Epoch [91/100], Loss: 0.09822639\n",
      "Epoch [92/100], Loss: 0.09799736\n",
      "Epoch [93/100], Loss: 0.09752278\n",
      "Epoch [94/100], Loss: 0.09917967\n",
      "Epoch [95/100], Loss: 0.09731256\n",
      "Epoch [96/100], Loss: 0.09784569\n",
      "Epoch [97/100], Loss: 0.09855589\n",
      "Epoch [98/100], Loss: 0.09783997\n",
      "Epoch [99/100], Loss: 0.09775071\n",
      "Epoch [100/100], Loss: 0.09851479\n",
      "Test Loss: 0.0728\n"
     ]
    }
   ],
   "execution_count": 14
  }
 ],
 "metadata": {
  "kernelspec": {
   "display_name": "Python 3",
   "language": "python",
   "name": "python3"
  },
  "language_info": {
   "codemirror_mode": {
    "name": "ipython",
    "version": 2
   },
   "file_extension": ".py",
   "mimetype": "text/x-python",
   "name": "python",
   "nbconvert_exporter": "python",
   "pygments_lexer": "ipython2",
   "version": "2.7.6"
  }
 },
 "nbformat": 4,
 "nbformat_minor": 5
}
