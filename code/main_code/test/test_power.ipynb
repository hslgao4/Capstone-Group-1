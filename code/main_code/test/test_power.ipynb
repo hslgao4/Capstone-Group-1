{
 "cells": [
  {
   "cell_type": "code",
   "id": "initial_id",
   "metadata": {
    "collapsed": true,
    "ExecuteTime": {
     "end_time": "2024-12-05T18:34:42.623987Z",
     "start_time": "2024-12-05T18:34:42.620130Z"
    }
   },
   "source": [
    "import sys\n",
    "sys.path.append('../../component')\n",
    "from utils import *\n",
    "from run_LSTM import set_lstm_data, run_lstm, lstm_eval\n",
    "from run_Transformer import set_trans_data, run_transformer, transformer_eval\n",
    "from run_EDA import run_eda\n",
    "import os\n",
    "os.getcwd()"
   ],
   "outputs": [
    {
     "data": {
      "text/plain": [
       "'/home/ubuntu/Capstone_Group_1/code/main_code/test'"
      ]
     },
     "execution_count": 16,
     "metadata": {},
     "output_type": "execute_result"
    }
   ],
   "execution_count": 16
  },
  {
   "metadata": {
    "ExecuteTime": {
     "end_time": "2024-12-05T18:34:49.037302Z",
     "start_time": "2024-12-05T18:34:49.034570Z"
    }
   },
   "cell_type": "code",
   "source": [
    "'''EDA'''\n",
    "path = '../../data/power_consumption.csv'\n",
    "target = 'power_consumption'\n",
    "ts_plt, acf, acf_pacf, rolling_mean_var, decomposition = run_eda(path, 100, 144)"
   ],
   "id": "daaef85486e61f2c",
   "outputs": [],
   "execution_count": 17
  },
  {
   "metadata": {
    "ExecuteTime": {
     "end_time": "2024-12-05T18:34:53.454396Z",
     "start_time": "2024-12-05T18:34:53.279183Z"
    }
   },
   "cell_type": "code",
   "source": [
    "df_train, df_test, train, test = prepare_arima_data(path, target)\n",
    "print('Train shape', train.shape, '\\nTest shape', test.shape)"
   ],
   "id": "1044aabfe94d046d",
   "outputs": [
    {
     "name": "stdout",
     "output_type": "stream",
     "text": [
      "Train shape (41932, 1) \n",
      "Test shape (10484, 1)\n"
     ]
    }
   ],
   "execution_count": 18
  },
  {
   "metadata": {
    "ExecuteTime": {
     "end_time": "2024-12-05T15:49:59.775079Z",
     "start_time": "2024-12-05T15:49:59.660853Z"
    }
   },
   "cell_type": "code",
   "source": "acf_pacf",
   "id": "19859dcf99d40675",
   "outputs": [
    {
     "data": {
      "text/plain": [
       "<Figure size 640x480 with 2 Axes>"
      ],
      "image/png": "[encoded data removed]"
     },
     "execution_count": 9,
     "metadata": {},
     "output_type": "execute_result"
    }
   ],
   "execution_count": 9
  },
  {
   "metadata": {},
   "cell_type": "code",
   "outputs": [],
   "execution_count": null,
   "source": [
    "# Optuna to find AR order\n",
    "study_ar, best_order_list_ar = optuna_search_ARIMA(train, test,\n",
    "                                                   ar_max=20, ma_max=None, integ_max=None,\n",
    "                                                   objective=ARIMA_objective, n_trials=20)"
   ],
   "id": "812ee3801032cd77"
  },
  {
   "metadata": {},
   "cell_type": "code",
   "outputs": [],
   "execution_count": null,
   "source": [
    "# Optuna to find MA order\n",
    "study_ma, best_order_list_ma = optuna_search_ARIMA(train, test,\n",
    "                                                   ar_max=None, ma_max=20, integ_max=None,\n",
    "                                                   objective=ARIMA_objective, n_trials=30)"
   ],
   "id": "c7a6523b94d0e519"
  },
  {
   "metadata": {
    "jupyter": {
     "is_executing": true
    }
   },
   "cell_type": "code",
   "source": [
    "fig = GPAC_table(train, J=8, K=8) \n",
    "# fig.savefig('../main/pdf/pow_1.pdf', dpi=300, bbox_inches=\"tight\")"
   ],
   "id": "801bbf7bdb37ee83",
   "outputs": [],
   "execution_count": null
  },
  {
   "metadata": {},
   "cell_type": "code",
   "outputs": [],
   "execution_count": null,
   "source": [
    "# Optuna to find ARMA order\n",
    "study_arma, best_order_list_arma = optuna_search_ARIMA(train, test,\n",
    "                                                   ar_max=20, ma_max=10, integ_max=None,\n",
    "                                                   objective=ARIMA_objective, n_trials=30)"
   ],
   "id": "9d1b9209448226c6"
  },
  {
   "metadata": {},
   "cell_type": "code",
   "outputs": [],
   "execution_count": null,
   "source": [
    "# perform a fist-order differencing than GPAC\n",
    "diff = differencing(df_train, 1, 'power_consumption')\n",
    "diff_data = np.array(diff).reshape(-1, 1)\n",
    "fig = GPAC_table(diff_data, J=8, K=8)\n",
    "fig.savefig('../main/pdf/pow_2.pdf', dpi=300, bbox_inches=\"tight\")"
   ],
   "id": "b1acd8a35f2ad042"
  },
  {
   "metadata": {},
   "cell_type": "code",
   "outputs": [],
   "execution_count": null,
   "source": [
    "# Optuna to find ARIMA order\n",
    "study_arima, best_order_list_arima = optuna_search_ARIMA(train, test,\n",
    "                                                   ar_max=20, ma_max=10, integ_max=1,\n",
    "                                                   objective=ARIMA_objective, n_trials=30)"
   ],
   "id": "366e7690413dac94"
  },
  {
   "metadata": {
    "ExecuteTime": {
     "end_time": "2024-12-03T14:09:34.580353Z",
     "start_time": "2024-12-03T14:09:34.577813Z"
    }
   },
   "cell_type": "code",
   "outputs": [],
   "execution_count": 4,
   "source": [
    "target = 'power_consumption'\n",
    "dataset = 'pow'\n",
    "seq_length = 6"
   ],
   "id": "a3991be7f9bda9ec"
  },
  {
   "metadata": {
    "ExecuteTime": {
     "end_time": "2024-12-03T14:11:19.802168Z",
     "start_time": "2024-12-03T14:09:37.214460Z"
    }
   },
   "cell_type": "code",
   "source": [
    "# LSTM\n",
    "model_name = 'lstm'\n",
    "\n",
    "train_loader, test_loader, scaler, actual_test = set_lstm_data(path, target, seq_length)\n",
    "model = run_lstm(dataset, train_loader, model_name)\n",
    "predictions = lstm_eval(model_name, dataset, model, test_loader, scaler)\n",
    "MSE(actual_test, predictions)"
   ],
   "id": "8e073914fba42f33",
   "outputs": [
    {
     "name": "stdout",
     "output_type": "stream",
     "text": [
      "seq_length: 6\n",
      "Epoch [1/100], Loss: 0.18919710\n",
      "Epoch [11/100], Loss: 0.00137368\n",
      "Epoch [21/100], Loss: 0.00059543\n",
      "Epoch [31/100], Loss: 0.00055663\n",
      "Epoch [41/100], Loss: 0.00054978\n",
      "Epoch [51/100], Loss: 0.00054610\n",
      "Epoch [61/100], Loss: 0.00054671\n",
      "Epoch [71/100], Loss: 0.00054363\n",
      "Epoch [81/100], Loss: 0.00054226\n",
      "Epoch [91/100], Loss: 0.00054339\n",
      "loss: 0.0004103898508019927\n"
     ]
    },
    {
     "data": {
      "text/plain": [
       "150572.5"
      ]
     },
     "execution_count": 5,
     "metadata": {},
     "output_type": "execute_result"
    }
   ],
   "execution_count": 5
  },
  {
   "metadata": {
    "ExecuteTime": {
     "end_time": "2024-12-03T14:13:35.850978Z",
     "start_time": "2024-12-03T14:11:49.231371Z"
    }
   },
   "cell_type": "code",
   "source": [
    "# BiLSTM\n",
    "model_name='Bilstm'\n",
    "\n",
    "train_loader, test_loader, scaler, actual_test = set_lstm_data(path, target, seq_length)\n",
    "model = run_lstm(dataset, train_loader, model_name)\n",
    "predictions = lstm_eval(model_name, dataset, model, test_loader, scaler)\n",
    "MSE(actual_test, predictions)"
   ],
   "id": "196fe8adcd1b4851",
   "outputs": [
    {
     "name": "stdout",
     "output_type": "stream",
     "text": [
      "seq_length: 6\n",
      "Epoch [1/100], Loss: 0.12955421\n",
      "Epoch [11/100], Loss: 0.00133167\n",
      "Epoch [21/100], Loss: 0.00060246\n",
      "Epoch [31/100], Loss: 0.00056160\n",
      "Epoch [41/100], Loss: 0.00055576\n",
      "Epoch [51/100], Loss: 0.00055400\n",
      "Epoch [61/100], Loss: 0.00055209\n",
      "Epoch [71/100], Loss: 0.00055004\n",
      "Epoch [81/100], Loss: 0.00054854\n",
      "Epoch [91/100], Loss: 0.00054515\n",
      "loss: 0.0004188844528781795\n"
     ]
    },
    {
     "data": {
      "text/plain": [
       "153693.6"
      ]
     },
     "execution_count": 7,
     "metadata": {},
     "output_type": "execute_result"
    }
   ],
   "execution_count": 7
  },
  {
   "metadata": {
    "ExecuteTime": {
     "end_time": "2024-12-03T14:16:23.223729Z",
     "start_time": "2024-12-03T14:14:04.857804Z"
    }
   },
   "cell_type": "code",
   "source": [
    "# Seq2seq\n",
    "model_name='seq2seq'\n",
    "\n",
    "train_loader, test_loader, scaler, actual_test = set_lstm_data(path, target, seq_length)\n",
    "model = run_lstm(dataset, train_loader, model_name)\n",
    "predictions = lstm_eval(model_name, dataset, model, test_loader, scaler)\n",
    "MSE(actual_test, predictions)"
   ],
   "id": "3134d058f9919ce3",
   "outputs": [
    {
     "name": "stdout",
     "output_type": "stream",
     "text": [
      "seq_length: 6\n",
      "Epoch [1/100], Loss: 0.17327501\n",
      "Epoch [11/100], Loss: 0.00168515\n",
      "Epoch [21/100], Loss: 0.00116306\n",
      "Epoch [31/100], Loss: 0.00105777\n",
      "Epoch [41/100], Loss: 0.00100158\n",
      "Epoch [51/100], Loss: 0.00091480\n",
      "Epoch [61/100], Loss: 0.00083741\n",
      "Epoch [71/100], Loss: 0.00075916\n",
      "Epoch [81/100], Loss: 0.00073685\n",
      "Epoch [91/100], Loss: 0.00068446\n",
      "loss: 0.0005312369092546472\n"
     ]
    },
    {
     "data": {
      "text/plain": [
       "194885.34"
      ]
     },
     "execution_count": 9,
     "metadata": {},
     "output_type": "execute_result"
    }
   ],
   "execution_count": 9
  },
  {
   "metadata": {},
   "cell_type": "code",
   "outputs": [],
   "execution_count": null,
   "source": [
    "# transformer\n",
    "seq_length = 6\n",
    "epoches = 100\n",
    "\n",
    "train_loader, test_loader, scaler, actual_test = set_trans_data(path, target, seq_length)\n",
    "model = run_transformer(dataset, train_loader, epoches)\n",
    "predictions = transformer_eval(dataset, model, test_loader, scaler)"
   ],
   "id": "3444c84bf45177f6"
  }
 ],
 "metadata": {
  "kernelspec": {
   "display_name": "Python 3",
   "language": "python",
   "name": "python3"
  },
  "language_info": {
   "codemirror_mode": {
    "name": "ipython",
    "version": 2
   },
   "file_extension": ".py",
   "mimetype": "text/x-python",
   "name": "python",
   "nbconvert_exporter": "python",
   "pygments_lexer": "ipython2",
   "version": "2.7.6"
  }
 },
 "nbformat": 4,
 "nbformat_minor": 5
}
