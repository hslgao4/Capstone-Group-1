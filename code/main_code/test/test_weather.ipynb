{
 "cells": [
  {
   "cell_type": "code",
   "id": "initial_id",
   "metadata": {
    "collapsed": true,
    "ExecuteTime": {
     "end_time": "2024-12-03T14:46:10.625573Z",
     "start_time": "2024-12-03T14:46:07.983436Z"
    }
   },
   "source": [
    "import sys\n",
    "sys.path.append('../../component')\n",
    "from utils import *\n",
    "from run_EDA import run_eda\n",
    "from run_ARIMA import run_arima\n",
    "from run_LSTM import set_data, run_lstm, lstm_eval\n",
    "import os\n",
    "os.getcwd()"
   ],
   "outputs": [
    {
     "data": {
      "text/plain": [
       "'/home/ubuntu/Capstone_Group_1/code/main_code/test'"
      ]
     },
     "execution_count": 1,
     "metadata": {},
     "output_type": "execute_result"
    }
   ],
   "execution_count": 1
  },
  {
   "metadata": {
    "ExecuteTime": {
     "end_time": "2024-12-03T15:06:00.745934Z",
     "start_time": "2024-12-03T15:06:00.743343Z"
    }
   },
   "cell_type": "code",
   "source": [
    "path = '../../data/weather.csv'\n",
    "target = 'temperature'\n",
    "dataset = 'wea'\n",
    "seq_length = 6"
   ],
   "id": "211a1d9d6a1f6c76",
   "outputs": [],
   "execution_count": 10
  },
  {
   "metadata": {
    "ExecuteTime": {
     "end_time": "2024-12-03T14:50:26.978792Z",
     "start_time": "2024-12-03T14:47:20.839029Z"
    }
   },
   "cell_type": "code",
   "source": [
    "model_name = 'lstm'\n",
    "\n",
    "train_loader, test_loader, scaler, actual_test = set_data(path, target, seq_length)\n",
    "model = run_lstm(dataset, train_loader, model_name)\n",
    "predictions = lstm_eval(model_name, dataset, model, test_loader, scaler)\n",
    "MSE(actual_test, predictions)"
   ],
   "id": "9c8033002f747c72",
   "outputs": [
    {
     "name": "stdout",
     "output_type": "stream",
     "text": [
      "seq_length: 6\n",
      "Epoch [1/100], Loss: 0.09212797\n",
      "Epoch [11/100], Loss: 0.00036430\n",
      "Epoch [21/100], Loss: 0.00035552\n",
      "Epoch [31/100], Loss: 0.00035339\n",
      "Epoch [41/100], Loss: 0.00035228\n",
      "Epoch [51/100], Loss: 0.00035216\n",
      "Epoch [61/100], Loss: 0.00035045\n",
      "Epoch [71/100], Loss: 0.00035088\n",
      "Epoch [81/100], Loss: 0.00034953\n",
      "Epoch [91/100], Loss: 0.00034898\n",
      "loss: 0.00032187920003734965\n"
     ]
    },
    {
     "data": {
      "text/plain": [
       "0.1822894"
      ]
     },
     "execution_count": 6,
     "metadata": {},
     "output_type": "execute_result"
    }
   ],
   "execution_count": 6
  },
  {
   "metadata": {
    "ExecuteTime": {
     "end_time": "2024-12-03T14:55:13.415507Z",
     "start_time": "2024-12-03T14:51:58.890493Z"
    }
   },
   "cell_type": "code",
   "source": [
    "'''BiLSTM'''\n",
    "model_name='Bilstm'\n",
    "\n",
    "train_loader, test_loader, scaler, actual_test = set_data(path, target, seq_length)\n",
    "model = run_lstm(dataset, train_loader, model_name)\n",
    "predictions = lstm_eval(model_name, dataset, model, test_loader, scaler)\n",
    "MSE(actual_test, predictions)"
   ],
   "id": "74e7462f3fea549f",
   "outputs": [
    {
     "name": "stdout",
     "output_type": "stream",
     "text": [
      "seq_length: 6\n",
      "Epoch [1/100], Loss: 0.04518737\n",
      "Epoch [11/100], Loss: 0.00040307\n",
      "Epoch [21/100], Loss: 0.00036305\n",
      "Epoch [31/100], Loss: 0.00036022\n",
      "Epoch [41/100], Loss: 0.00035933\n",
      "Epoch [51/100], Loss: 0.00035785\n",
      "Epoch [61/100], Loss: 0.00035618\n",
      "Epoch [71/100], Loss: 0.00035641\n",
      "Epoch [81/100], Loss: 0.00035577\n",
      "Epoch [91/100], Loss: 0.00035522\n",
      "loss: 0.0003310922952330271\n"
     ]
    },
    {
     "data": {
      "text/plain": [
       "0.1875079"
      ]
     },
     "execution_count": 7,
     "metadata": {},
     "output_type": "execute_result"
    }
   ],
   "execution_count": 7
  },
  {
   "metadata": {
    "ExecuteTime": {
     "end_time": "2024-12-03T15:00:54.604061Z",
     "start_time": "2024-12-03T14:56:37.242166Z"
    }
   },
   "cell_type": "code",
   "source": [
    "# '''Seq2seq'''\n",
    "model_name='seq2seq'\n",
    "\n",
    "train_loader, test_loader, scaler, actual_test = set_data(path, target, seq_length)\n",
    "model = run_lstm(dataset, train_loader, model_name)\n",
    "predictions = lstm_eval(model_name, dataset, model, test_loader, scaler)\n",
    "MSE(actual_test, predictions)"
   ],
   "id": "a2ad1de97caa4d5f",
   "outputs": [
    {
     "name": "stdout",
     "output_type": "stream",
     "text": [
      "seq_length: 6\n",
      "Epoch [1/100], Loss: 0.08546173\n",
      "Epoch [11/100], Loss: 0.00045876\n",
      "Epoch [21/100], Loss: 0.00036851\n",
      "Epoch [31/100], Loss: 0.00036231\n",
      "Epoch [41/100], Loss: 0.00035750\n",
      "Epoch [51/100], Loss: 0.00035832\n",
      "Epoch [61/100], Loss: 0.00035614\n",
      "Epoch [71/100], Loss: 0.00035653\n",
      "Epoch [81/100], Loss: 0.00035336\n",
      "Epoch [91/100], Loss: 0.00035376\n",
      "loss: 0.00032356113208675884\n"
     ]
    },
    {
     "data": {
      "text/plain": [
       "0.18324247"
      ]
     },
     "execution_count": 8,
     "metadata": {},
     "output_type": "execute_result"
    }
   ],
   "execution_count": 8
  },
  {
   "metadata": {
    "ExecuteTime": {
     "end_time": "2024-12-03T15:12:44.271592Z",
     "start_time": "2024-12-03T15:06:04.242884Z"
    }
   },
   "cell_type": "code",
   "source": [
    "# transformer\n",
    "from run_Transformer import set_data, run_transformer, transformer_eval\n",
    "epoches = 100\n",
    "batch_size = 128\n",
    "\n",
    "train_loader, test_loader, scaler, actual_test = set_data(path, target, seq_length, batch_size)\n",
    "model = run_transformer(dataset, train_loader, epoches)\n",
    "predictions = transformer_eval(dataset, model, test_loader, scaler)"
   ],
   "id": "b5bd5a16118e7ab",
   "outputs": [
    {
     "name": "stderr",
     "output_type": "stream",
     "text": [
      "/usr/local/lib/python3.12/dist-packages/torch/nn/modules/transformer.py:306: UserWarning: enable_nested_tensor is True, but self.use_nested_tensor is False because encoder_layer.self_attn.batch_first was not True(use batch_first for better inference performance)\n",
      "  warnings.warn(f\"enable_nested_tensor is True, but self.use_nested_tensor is False because {why_not_sparsity_fast_path}\")\n"
     ]
    },
    {
     "name": "stdout",
     "output_type": "stream",
     "text": [
      "Epoch [1/100], Loss: 0.04043794\n",
      "Epoch [2/100], Loss: 0.01357779\n",
      "Epoch [3/100], Loss: 0.01155836\n",
      "Epoch [4/100], Loss: 0.01017709\n",
      "Epoch [5/100], Loss: 0.00913971\n",
      "Epoch [6/100], Loss: 0.00901189\n",
      "Epoch [7/100], Loss: 0.00842886\n",
      "Epoch [8/100], Loss: 0.00802025\n",
      "Epoch [9/100], Loss: 0.00772361\n",
      "Epoch [10/100], Loss: 0.00743902\n",
      "Epoch [11/100], Loss: 0.00703989\n",
      "Epoch [12/100], Loss: 0.00693000\n",
      "Epoch [13/100], Loss: 0.00663964\n",
      "Epoch [14/100], Loss: 0.00644571\n",
      "Epoch [15/100], Loss: 0.00660192\n",
      "Epoch [16/100], Loss: 0.00625154\n",
      "Epoch [17/100], Loss: 0.00606408\n",
      "Epoch [18/100], Loss: 0.00584815\n",
      "Epoch [19/100], Loss: 0.00579817\n",
      "Epoch [20/100], Loss: 0.00574830\n",
      "Epoch [21/100], Loss: 0.00551706\n",
      "Epoch [22/100], Loss: 0.00559505\n",
      "Epoch [23/100], Loss: 0.00546030\n",
      "Epoch [24/100], Loss: 0.00538282\n",
      "Epoch [25/100], Loss: 0.00530682\n",
      "Epoch [26/100], Loss: 0.00532397\n",
      "Epoch [27/100], Loss: 0.00524395\n",
      "Epoch [28/100], Loss: 0.00524462\n",
      "Epoch [29/100], Loss: 0.00501423\n",
      "Epoch [30/100], Loss: 0.00503771\n",
      "Epoch [31/100], Loss: 0.00509200\n",
      "Epoch [32/100], Loss: 0.00500424\n",
      "Epoch [33/100], Loss: 0.00498481\n",
      "Epoch [34/100], Loss: 0.00489916\n",
      "Epoch [35/100], Loss: 0.00490997\n",
      "Epoch [36/100], Loss: 0.00486004\n",
      "Epoch [37/100], Loss: 0.00487818\n",
      "Epoch [38/100], Loss: 0.00480908\n",
      "Epoch [39/100], Loss: 0.00477520\n",
      "Epoch [40/100], Loss: 0.00482695\n",
      "Epoch [41/100], Loss: 0.00478156\n",
      "Epoch [42/100], Loss: 0.00475835\n",
      "Epoch [43/100], Loss: 0.00470195\n",
      "Epoch [44/100], Loss: 0.00471962\n",
      "Epoch [45/100], Loss: 0.00469054\n",
      "Epoch [46/100], Loss: 0.00463367\n",
      "Epoch [47/100], Loss: 0.00465057\n",
      "Epoch [48/100], Loss: 0.00466756\n",
      "Epoch [49/100], Loss: 0.00469583\n",
      "Epoch [50/100], Loss: 0.00474558\n",
      "Epoch [51/100], Loss: 0.00463113\n",
      "Epoch [52/100], Loss: 0.00458914\n",
      "Epoch [53/100], Loss: 0.00460269\n",
      "Epoch [54/100], Loss: 0.00458838\n",
      "Epoch [55/100], Loss: 0.00458903\n",
      "Epoch [56/100], Loss: 0.00455263\n",
      "Epoch [57/100], Loss: 0.00456768\n",
      "Epoch [58/100], Loss: 0.00455942\n",
      "Epoch [59/100], Loss: 0.00450992\n",
      "Epoch [60/100], Loss: 0.00481079\n",
      "Epoch [61/100], Loss: 0.00454011\n",
      "Epoch [62/100], Loss: 0.00449625\n",
      "Epoch [63/100], Loss: 0.00453109\n",
      "Epoch [64/100], Loss: 0.00447467\n",
      "Epoch [65/100], Loss: 0.00448502\n",
      "Epoch [66/100], Loss: 0.00450223\n",
      "Epoch [67/100], Loss: 0.00448077\n",
      "Epoch [68/100], Loss: 0.00450377\n",
      "Epoch [69/100], Loss: 0.00440796\n",
      "Epoch [70/100], Loss: 0.00439178\n",
      "Epoch [71/100], Loss: 0.00436697\n",
      "Epoch [72/100], Loss: 0.00444178\n",
      "Epoch [73/100], Loss: 0.00444120\n",
      "Epoch [74/100], Loss: 0.00441376\n",
      "Epoch [75/100], Loss: 0.00443782\n",
      "Epoch [76/100], Loss: 0.00440967\n",
      "Epoch [77/100], Loss: 0.00434355\n",
      "Epoch [78/100], Loss: 0.00441828\n",
      "Epoch [79/100], Loss: 0.00435916\n",
      "Epoch [80/100], Loss: 0.00438093\n",
      "Epoch [81/100], Loss: 0.00436126\n",
      "Epoch [82/100], Loss: 0.00434599\n",
      "Epoch [83/100], Loss: 0.00435162\n",
      "Epoch [84/100], Loss: 0.00436243\n",
      "Epoch [85/100], Loss: 0.00481017\n",
      "Epoch [86/100], Loss: 0.00437935\n",
      "Epoch [87/100], Loss: 0.00433193\n",
      "Epoch [88/100], Loss: 0.00429821\n",
      "Epoch [89/100], Loss: 0.00433012\n",
      "Epoch [90/100], Loss: 0.00432504\n",
      "Epoch [91/100], Loss: 0.00432426\n",
      "Epoch [92/100], Loss: 0.00433778\n",
      "Epoch [93/100], Loss: 0.00432192\n",
      "Epoch [94/100], Loss: 0.00429981\n",
      "Epoch [95/100], Loss: 0.00434347\n",
      "Epoch [96/100], Loss: 0.00425992\n",
      "Epoch [97/100], Loss: 0.00428421\n",
      "Epoch [98/100], Loss: 0.00432158\n",
      "Epoch [99/100], Loss: 0.00425133\n",
      "Epoch [100/100], Loss: 0.00430304\n",
      "Test Loss: 0.0139\n"
     ]
    }
   ],
   "execution_count": 11
  }
 ],
 "metadata": {
  "kernelspec": {
   "display_name": "Python 3",
   "language": "python",
   "name": "python3"
  },
  "language_info": {
   "codemirror_mode": {
    "name": "ipython",
    "version": 2
   },
   "file_extension": ".py",
   "mimetype": "text/x-python",
   "name": "python",
   "nbconvert_exporter": "python",
   "pygments_lexer": "ipython2",
   "version": "2.7.6"
  }
 },
 "nbformat": 4,
 "nbformat_minor": 5
}
