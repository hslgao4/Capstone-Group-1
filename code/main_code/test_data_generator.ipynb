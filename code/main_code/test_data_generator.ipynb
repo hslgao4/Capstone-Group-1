{
 "cells": [
  {
   "cell_type": "code",
   "id": "initial_id",
   "metadata": {
    "collapsed": true,
    "ExecuteTime": {
     "end_time": "2024-09-21T20:07:50.966833Z",
     "start_time": "2024-09-21T20:07:49.650068Z"
    }
   },
   "source": [
    "import numpy as np\n",
    "utils_dir = '../component'\n",
    "import os, sys\n",
    "sys.path.insert(0, os.path.abspath(utils_dir))\n",
    "from utils import *\n",
    "from class_data_generator import *\n",
    "np.random.seed(6313)"
   ],
   "outputs": [],
   "execution_count": 1
  },
  {
   "metadata": {},
   "cell_type": "markdown",
   "source": "### Generate deterministic data without exogenous input",
   "id": "1f37ab5ec316e6a0"
  },
  {
   "metadata": {
    "ExecuteTime": {
     "end_time": "2024-09-21T20:06:00.189178Z",
     "start_time": "2024-09-21T20:06:00.153366Z"
    }
   },
   "cell_type": "code",
   "source": [
    "# Example 1: random data follow normal distribution \n",
    "generator = TimeSeriesGenerator(n_samples=5000, freq='D')\n",
    "\n",
    "data_d_1, df = generator.gen_determ_data(inputs={'type': 'random', 'param': 1}, \n",
    "                                         noise_mean=0, noise_var=1, \n",
    "                                         seasonality=False, trend=False, \n",
    "                                         mean=1, std=np.sqrt(2))\n",
    "\n",
    "df"
   ],
   "id": "7500e1b195f5b472",
   "outputs": [
    {
     "data": {
      "text/plain": [
       "             ts_data\n",
       "2023-01-01  2.355268\n",
       "2023-01-02 -1.013961\n",
       "2023-01-03  1.738343\n",
       "2023-01-04  0.007732\n",
       "2023-01-05 -0.292297\n",
       "...              ...\n",
       "2036-09-04 -1.520033\n",
       "2036-09-05  0.519095\n",
       "2036-09-06 -1.109830\n",
       "2036-09-07 -0.229859\n",
       "2036-09-08  0.024060\n",
       "\n",
       "[5000 rows x 1 columns]"
      ],
      "text/html": [
       "<div>\n",
       "<style scoped>\n",
       "    .dataframe tbody tr th:only-of-type {\n",
       "        vertical-align: middle;\n",
       "    }\n",
       "\n",
       "    .dataframe tbody tr th {\n",
       "        vertical-align: top;\n",
       "    }\n",
       "\n",
       "    .dataframe thead th {\n",
       "        text-align: right;\n",
       "    }\n",
       "</style>\n",
       "<table border=\"1\" class=\"dataframe\">\n",
       "  <thead>\n",
       "    <tr style=\"text-align: right;\">\n",
       "      <th></th>\n",
       "      <th>ts_data</th>\n",
       "    </tr>\n",
       "  </thead>\n",
       "  <tbody>\n",
       "    <tr>\n",
       "      <th>2023-01-01</th>\n",
       "      <td>2.355268</td>\n",
       "    </tr>\n",
       "    <tr>\n",
       "      <th>2023-01-02</th>\n",
       "      <td>-1.013961</td>\n",
       "    </tr>\n",
       "    <tr>\n",
       "      <th>2023-01-03</th>\n",
       "      <td>1.738343</td>\n",
       "    </tr>\n",
       "    <tr>\n",
       "      <th>2023-01-04</th>\n",
       "      <td>0.007732</td>\n",
       "    </tr>\n",
       "    <tr>\n",
       "      <th>2023-01-05</th>\n",
       "      <td>-0.292297</td>\n",
       "    </tr>\n",
       "    <tr>\n",
       "      <th>...</th>\n",
       "      <td>...</td>\n",
       "    </tr>\n",
       "    <tr>\n",
       "      <th>2036-09-04</th>\n",
       "      <td>-1.520033</td>\n",
       "    </tr>\n",
       "    <tr>\n",
       "      <th>2036-09-05</th>\n",
       "      <td>0.519095</td>\n",
       "    </tr>\n",
       "    <tr>\n",
       "      <th>2036-09-06</th>\n",
       "      <td>-1.109830</td>\n",
       "    </tr>\n",
       "    <tr>\n",
       "      <th>2036-09-07</th>\n",
       "      <td>-0.229859</td>\n",
       "    </tr>\n",
       "    <tr>\n",
       "      <th>2036-09-08</th>\n",
       "      <td>0.024060</td>\n",
       "    </tr>\n",
       "  </tbody>\n",
       "</table>\n",
       "<p>5000 rows × 1 columns</p>\n",
       "</div>"
      ]
     },
     "execution_count": 3,
     "metadata": {},
     "output_type": "execute_result"
    }
   ],
   "execution_count": 3
  },
  {
   "metadata": {
    "ExecuteTime": {
     "end_time": "2024-09-21T19:12:50.564104Z",
     "start_time": "2024-09-21T19:12:50.552848Z"
    }
   },
   "cell_type": "code",
   "source": [
    "# Example 2: linear data\n",
    "generator = TimeSeriesGenerator(n_samples=5000, freq='D')\n",
    "\n",
    "data_d_2, df = generator.gen_determ_data(inputs={'type': 'linear', 'param': 1, 'kwargs':{'slope': 0.5}}, \n",
    "                                         noise_mean=0, noise_var=1, \n",
    "                                         seasonality=False, trend=False, \n",
    "                                         mean=1, std=np.sqrt(2))\n",
    "\n",
    "df"
   ],
   "id": "aaafaffca4f12ac6",
   "outputs": [
    {
     "data": {
      "text/plain": [
       "                ts_data\n",
       "2023-01-01     1.287477\n",
       "2023-01-02     0.130681\n",
       "2023-01-03     0.271602\n",
       "2023-01-04     0.001501\n",
       "2023-01-05     0.754626\n",
       "...                 ...\n",
       "2036-09-04  2497.677713\n",
       "2036-09-05  2496.646725\n",
       "2036-09-06  2499.155027\n",
       "2036-09-07  2499.720059\n",
       "2036-09-08  2499.235013\n",
       "\n",
       "[5000 rows x 1 columns]"
      ],
      "text/html": [
       "<div>\n",
       "<style scoped>\n",
       "    .dataframe tbody tr th:only-of-type {\n",
       "        vertical-align: middle;\n",
       "    }\n",
       "\n",
       "    .dataframe tbody tr th {\n",
       "        vertical-align: top;\n",
       "    }\n",
       "\n",
       "    .dataframe thead th {\n",
       "        text-align: right;\n",
       "    }\n",
       "</style>\n",
       "<table border=\"1\" class=\"dataframe\">\n",
       "  <thead>\n",
       "    <tr style=\"text-align: right;\">\n",
       "      <th></th>\n",
       "      <th>ts_data</th>\n",
       "    </tr>\n",
       "  </thead>\n",
       "  <tbody>\n",
       "    <tr>\n",
       "      <th>2023-01-01</th>\n",
       "      <td>1.287477</td>\n",
       "    </tr>\n",
       "    <tr>\n",
       "      <th>2023-01-02</th>\n",
       "      <td>0.130681</td>\n",
       "    </tr>\n",
       "    <tr>\n",
       "      <th>2023-01-03</th>\n",
       "      <td>0.271602</td>\n",
       "    </tr>\n",
       "    <tr>\n",
       "      <th>2023-01-04</th>\n",
       "      <td>0.001501</td>\n",
       "    </tr>\n",
       "    <tr>\n",
       "      <th>2023-01-05</th>\n",
       "      <td>0.754626</td>\n",
       "    </tr>\n",
       "    <tr>\n",
       "      <th>...</th>\n",
       "      <td>...</td>\n",
       "    </tr>\n",
       "    <tr>\n",
       "      <th>2036-09-04</th>\n",
       "      <td>2497.677713</td>\n",
       "    </tr>\n",
       "    <tr>\n",
       "      <th>2036-09-05</th>\n",
       "      <td>2496.646725</td>\n",
       "    </tr>\n",
       "    <tr>\n",
       "      <th>2036-09-06</th>\n",
       "      <td>2499.155027</td>\n",
       "    </tr>\n",
       "    <tr>\n",
       "      <th>2036-09-07</th>\n",
       "      <td>2499.720059</td>\n",
       "    </tr>\n",
       "    <tr>\n",
       "      <th>2036-09-08</th>\n",
       "      <td>2499.235013</td>\n",
       "    </tr>\n",
       "  </tbody>\n",
       "</table>\n",
       "<p>5000 rows × 1 columns</p>\n",
       "</div>"
      ]
     },
     "execution_count": 3,
     "metadata": {},
     "output_type": "execute_result"
    }
   ],
   "execution_count": 3
  },
  {
   "metadata": {
    "ExecuteTime": {
     "end_time": "2024-09-21T19:12:59.166340Z",
     "start_time": "2024-09-21T19:12:59.158208Z"
    }
   },
   "cell_type": "code",
   "source": [
    "# Example 3: data with seasonality\n",
    "generator = TimeSeriesGenerator(n_samples=5000, freq='D')\n",
    "\n",
    "data_d_3, df = generator.gen_determ_data(inputs={'type': 'random', 'param': 1}, \n",
    "                                         noise_mean=0, noise_var=1, \n",
    "                                         seasonality=True, trend=False, \n",
    "                                         mean=1, std=np.sqrt(2),\n",
    "                                         period_s=365, amplitude=2)\n",
    "                                  \n",
    "df\n"
   ],
   "id": "27d3a97572aa5727",
   "outputs": [
    {
     "data": {
      "text/plain": [
       "             ts_data\n",
       "2023-01-01 -1.502105\n",
       "2023-01-02  2.198493\n",
       "2023-01-03  0.249476\n",
       "2023-01-04  0.509593\n",
       "2023-01-05 -0.395864\n",
       "...              ...\n",
       "2036-09-04 -1.982759\n",
       "2036-09-05 -3.689757\n",
       "2036-09-06 -1.944305\n",
       "2036-09-07 -2.610840\n",
       "2036-09-08 -2.303177\n",
       "\n",
       "[5000 rows x 1 columns]"
      ],
      "text/html": [
       "<div>\n",
       "<style scoped>\n",
       "    .dataframe tbody tr th:only-of-type {\n",
       "        vertical-align: middle;\n",
       "    }\n",
       "\n",
       "    .dataframe tbody tr th {\n",
       "        vertical-align: top;\n",
       "    }\n",
       "\n",
       "    .dataframe thead th {\n",
       "        text-align: right;\n",
       "    }\n",
       "</style>\n",
       "<table border=\"1\" class=\"dataframe\">\n",
       "  <thead>\n",
       "    <tr style=\"text-align: right;\">\n",
       "      <th></th>\n",
       "      <th>ts_data</th>\n",
       "    </tr>\n",
       "  </thead>\n",
       "  <tbody>\n",
       "    <tr>\n",
       "      <th>2023-01-01</th>\n",
       "      <td>-1.502105</td>\n",
       "    </tr>\n",
       "    <tr>\n",
       "      <th>2023-01-02</th>\n",
       "      <td>2.198493</td>\n",
       "    </tr>\n",
       "    <tr>\n",
       "      <th>2023-01-03</th>\n",
       "      <td>0.249476</td>\n",
       "    </tr>\n",
       "    <tr>\n",
       "      <th>2023-01-04</th>\n",
       "      <td>0.509593</td>\n",
       "    </tr>\n",
       "    <tr>\n",
       "      <th>2023-01-05</th>\n",
       "      <td>-0.395864</td>\n",
       "    </tr>\n",
       "    <tr>\n",
       "      <th>...</th>\n",
       "      <td>...</td>\n",
       "    </tr>\n",
       "    <tr>\n",
       "      <th>2036-09-04</th>\n",
       "      <td>-1.982759</td>\n",
       "    </tr>\n",
       "    <tr>\n",
       "      <th>2036-09-05</th>\n",
       "      <td>-3.689757</td>\n",
       "    </tr>\n",
       "    <tr>\n",
       "      <th>2036-09-06</th>\n",
       "      <td>-1.944305</td>\n",
       "    </tr>\n",
       "    <tr>\n",
       "      <th>2036-09-07</th>\n",
       "      <td>-2.610840</td>\n",
       "    </tr>\n",
       "    <tr>\n",
       "      <th>2036-09-08</th>\n",
       "      <td>-2.303177</td>\n",
       "    </tr>\n",
       "  </tbody>\n",
       "</table>\n",
       "<p>5000 rows × 1 columns</p>\n",
       "</div>"
      ]
     },
     "execution_count": 4,
     "metadata": {},
     "output_type": "execute_result"
    }
   ],
   "execution_count": 4
  },
  {
   "metadata": {
    "ExecuteTime": {
     "end_time": "2024-09-21T19:13:05.497908Z",
     "start_time": "2024-09-21T19:13:05.487571Z"
    }
   },
   "cell_type": "code",
   "source": [
    "# Example 4: data with trend\n",
    "generator = TimeSeriesGenerator(n_samples=5000, freq='D')\n",
    "\n",
    "data_d_4, df = generator.gen_determ_data(inputs={'type': 'random', 'param': 1}, \n",
    "                                         noise_mean=0, noise_var=1, \n",
    "                                         seasonality=False, trend=True, \n",
    "                                         mean=1, std=np.sqrt(2),\n",
    "                                         trend_type='linear', slope=0.01)\n",
    "df\n"
   ],
   "id": "29a31c352b6ac843",
   "outputs": [
    {
     "data": {
      "text/plain": [
       "              ts_data\n",
       "2023-01-01  -1.248896\n",
       "2023-01-02   3.122299\n",
       "2023-01-03  -1.666614\n",
       "2023-01-04   0.836376\n",
       "2023-01-05  -0.893222\n",
       "...               ...\n",
       "2036-09-04  47.850357\n",
       "2036-09-05  49.582315\n",
       "2036-09-06  48.734149\n",
       "2036-09-07  50.147161\n",
       "2036-09-08  46.930459\n",
       "\n",
       "[5000 rows x 1 columns]"
      ],
      "text/html": [
       "<div>\n",
       "<style scoped>\n",
       "    .dataframe tbody tr th:only-of-type {\n",
       "        vertical-align: middle;\n",
       "    }\n",
       "\n",
       "    .dataframe tbody tr th {\n",
       "        vertical-align: top;\n",
       "    }\n",
       "\n",
       "    .dataframe thead th {\n",
       "        text-align: right;\n",
       "    }\n",
       "</style>\n",
       "<table border=\"1\" class=\"dataframe\">\n",
       "  <thead>\n",
       "    <tr style=\"text-align: right;\">\n",
       "      <th></th>\n",
       "      <th>ts_data</th>\n",
       "    </tr>\n",
       "  </thead>\n",
       "  <tbody>\n",
       "    <tr>\n",
       "      <th>2023-01-01</th>\n",
       "      <td>-1.248896</td>\n",
       "    </tr>\n",
       "    <tr>\n",
       "      <th>2023-01-02</th>\n",
       "      <td>3.122299</td>\n",
       "    </tr>\n",
       "    <tr>\n",
       "      <th>2023-01-03</th>\n",
       "      <td>-1.666614</td>\n",
       "    </tr>\n",
       "    <tr>\n",
       "      <th>2023-01-04</th>\n",
       "      <td>0.836376</td>\n",
       "    </tr>\n",
       "    <tr>\n",
       "      <th>2023-01-05</th>\n",
       "      <td>-0.893222</td>\n",
       "    </tr>\n",
       "    <tr>\n",
       "      <th>...</th>\n",
       "      <td>...</td>\n",
       "    </tr>\n",
       "    <tr>\n",
       "      <th>2036-09-04</th>\n",
       "      <td>47.850357</td>\n",
       "    </tr>\n",
       "    <tr>\n",
       "      <th>2036-09-05</th>\n",
       "      <td>49.582315</td>\n",
       "    </tr>\n",
       "    <tr>\n",
       "      <th>2036-09-06</th>\n",
       "      <td>48.734149</td>\n",
       "    </tr>\n",
       "    <tr>\n",
       "      <th>2036-09-07</th>\n",
       "      <td>50.147161</td>\n",
       "    </tr>\n",
       "    <tr>\n",
       "      <th>2036-09-08</th>\n",
       "      <td>46.930459</td>\n",
       "    </tr>\n",
       "  </tbody>\n",
       "</table>\n",
       "<p>5000 rows × 1 columns</p>\n",
       "</div>"
      ]
     },
     "execution_count": 5,
     "metadata": {},
     "output_type": "execute_result"
    }
   ],
   "execution_count": 5
  },
  {
   "metadata": {},
   "cell_type": "markdown",
   "source": "### Generate stochastic data without exogenous input (by model)",
   "id": "e57afd2f23ea74ab"
  },
  {
   "metadata": {
    "ExecuteTime": {
     "end_time": "2024-09-21T19:13:25.056986Z",
     "start_time": "2024-09-21T19:13:23.468786Z"
    }
   },
   "cell_type": "code",
   "source": [
    "# Example 1: generate using AR process\n",
    "generator = TimeSeriesGenerator(n_samples=5000, freq='D')\n",
    "data_s_1, df = generator.gen_stochs_data(ar_para=[0.6], \n",
    "                                         ma_para=[],\n",
    "                                         sar_para=[], \n",
    "                                         sma_para=[],\n",
    "                                         d=0, \n",
    "                                         D=0, \n",
    "                                         seasonal_period=0, \n",
    "                                         var_WN=1)\n",
    "df  "
   ],
   "id": "90eb07120bcfc4d7",
   "outputs": [
    {
     "data": {
      "text/plain": [
       "2023-01-01   -1203.223340\n",
       "2023-01-02    -723.178560\n",
       "2023-01-03    -433.386754\n",
       "2023-01-04    -261.457186\n",
       "2023-01-05    -157.670276\n",
       "                 ...     \n",
       "2036-09-04       1.834544\n",
       "2036-09-05       0.716980\n",
       "2036-09-06       1.806099\n",
       "2036-09-07       2.557107\n",
       "2036-09-08       0.737245\n",
       "Freq: D, Length: 5000, dtype: float64"
      ]
     },
     "execution_count": 6,
     "metadata": {},
     "output_type": "execute_result"
    }
   ],
   "execution_count": 6
  },
  {
   "metadata": {
    "ExecuteTime": {
     "end_time": "2024-09-21T19:13:31.963150Z",
     "start_time": "2024-09-21T19:13:31.949331Z"
    }
   },
   "cell_type": "code",
   "source": [
    "# Example 2: generate using MA process\n",
    "generator = TimeSeriesGenerator(n_samples=5000, freq='D')\n",
    "data_s_2, df = generator.gen_stochs_data(ar_para=[], \n",
    "                                         ma_para=[0.5],\n",
    "                                         sar_para=[], \n",
    "                                         sma_para=[],\n",
    "                                         d=0, \n",
    "                                         D=0, \n",
    "                                         seasonal_period=0, \n",
    "                                         var_WN=1)\n",
    "data_s_2,df  "
   ],
   "id": "fc356d19f3a98700",
   "outputs": [
    {
     "data": {
      "text/plain": [
       "(array([ 3.01545793e+02,  2.54970306e+02,  4.80075392e-01, ...,\n",
       "        -2.98541514e-01, -4.77488569e-01, -2.90537442e+00]),\n",
       " 2023-01-01    301.545793\n",
       " 2023-01-02    254.970306\n",
       " 2023-01-03      0.480075\n",
       " 2023-01-04      1.275017\n",
       " 2023-01-05     -0.140852\n",
       "                  ...    \n",
       " 2036-09-04      0.072178\n",
       " 2036-09-05     -1.056510\n",
       " 2036-09-06     -0.298542\n",
       " 2036-09-07     -0.477489\n",
       " 2036-09-08     -2.905374\n",
       " Freq: D, Length: 5000, dtype: float64)"
      ]
     },
     "execution_count": 7,
     "metadata": {},
     "output_type": "execute_result"
    }
   ],
   "execution_count": 7
  },
  {
   "metadata": {
    "ExecuteTime": {
     "end_time": "2024-09-21T19:13:44.354211Z",
     "start_time": "2024-09-21T19:13:44.342446Z"
    }
   },
   "cell_type": "code",
   "source": [
    "# Example 3: generate using ARMA process\n",
    "generator = TimeSeriesGenerator(n_samples=5000, freq='D')\n",
    "data_s_3, df = generator.gen_stochs_data(ar_para=[0.6], \n",
    "                                         ma_para=[0.3],\n",
    "                                         sar_para=[], \n",
    "                                         sma_para=[],\n",
    "                                         d=0, \n",
    "                                         D=0, \n",
    "                                         seasonal_period=0, \n",
    "                                         var_WN=1)\n",
    "\n",
    "df"
   ],
   "id": "a8d6112890688dcd",
   "outputs": [
    {
     "data": {
      "text/plain": [
       "2023-01-01   -1060.593253\n",
       "2023-01-02   -2280.651846\n",
       "2023-01-03   -1369.609199\n",
       "2023-01-04    -820.816092\n",
       "2023-01-05    -491.862636\n",
       "                 ...     \n",
       "2036-09-04       1.310993\n",
       "2036-09-05       0.340676\n",
       "2036-09-06       0.216838\n",
       "2036-09-07       2.104576\n",
       "2036-09-08       1.503198\n",
       "Freq: D, Length: 5000, dtype: float64"
      ]
     },
     "execution_count": 8,
     "metadata": {},
     "output_type": "execute_result"
    }
   ],
   "execution_count": 8
  },
  {
   "metadata": {
    "ExecuteTime": {
     "end_time": "2024-09-21T19:14:00.306598Z",
     "start_time": "2024-09-21T19:14:00.293197Z"
    }
   },
   "cell_type": "code",
   "source": [
    "# Example 4: generate using ARIMA process\n",
    "generator = TimeSeriesGenerator(n_samples=5000, freq='D')\n",
    "data_s_4, df = generator.gen_stochs_data(ar_para=[0.6], \n",
    "                                         ma_para=[0.3],\n",
    "                                         sar_para=[], \n",
    "                                         sma_para=[],\n",
    "                                         d=1, \n",
    "                                         D=0, \n",
    "                                         seasonal_period=0, \n",
    "                                         var_WN=1)\n",
    "df\n"
   ],
   "id": "ac5524dc69014af0",
   "outputs": [
    {
     "data": {
      "text/plain": [
       "2023-01-01    1870.412326\n",
       "2023-01-02    2097.631994\n",
       "2023-01-03    2232.939405\n",
       "2023-01-04    2313.543230\n",
       "2023-01-05    2361.431837\n",
       "                 ...     \n",
       "2036-09-04    2530.489221\n",
       "2036-09-05    2532.177143\n",
       "2036-09-06    2531.609901\n",
       "2036-09-07    2529.600934\n",
       "2036-09-08    2527.454178\n",
       "Freq: D, Length: 5000, dtype: float64"
      ]
     },
     "execution_count": 9,
     "metadata": {},
     "output_type": "execute_result"
    }
   ],
   "execution_count": 9
  },
  {
   "metadata": {
    "ExecuteTime": {
     "end_time": "2024-09-21T19:16:16.841703Z",
     "start_time": "2024-09-21T19:16:16.762335Z"
    }
   },
   "cell_type": "code",
   "source": [
    "# Example 5: generate using SARIMA process\n",
    "\n",
    "generator = TimeSeriesGenerator(n_samples=5000, freq='D')\n",
    "data_s_4, df = generator.gen_stochs_data(ar_para=[], \n",
    "                                         ma_para=[], \n",
    "                                         sar_para=[0.8], \n",
    "                                         sma_para=[0.6, 0.5],\n",
    "                                         d=0, \n",
    "                                         D=1, \n",
    "                                         seasonal_period=12, \n",
    "                                         var_WN=1)\n",
    "df\n"
   ],
   "id": "54deea7667eaaa61",
   "outputs": [
    {
     "data": {
      "text/plain": [
       "2023-01-01     765.557823\n",
       "2023-01-02   -2965.283166\n",
       "2023-01-03    1320.571029\n",
       "2023-01-04    1327.915602\n",
       "2023-01-05     777.074985\n",
       "                 ...     \n",
       "2036-09-04   -2174.148714\n",
       "2036-09-05   -2704.107129\n",
       "2036-09-06   -4587.963309\n",
       "2036-09-07    5523.534493\n",
       "2036-09-08   -7833.411243\n",
       "Freq: D, Length: 5000, dtype: float64"
      ]
     },
     "execution_count": 14,
     "metadata": {},
     "output_type": "execute_result"
    }
   ],
   "execution_count": 14
  },
  {
   "metadata": {},
   "cell_type": "markdown",
   "source": "### Generate deterministic data with one exogenous input",
   "id": "c867fe11c610e36c"
  },
  {
   "metadata": {
    "ExecuteTime": {
     "end_time": "2024-09-21T20:07:55.232800Z",
     "start_time": "2024-09-21T20:07:55.215697Z"
    }
   },
   "cell_type": "code",
   "source": [
    "#Example 1: random data + random exogenous input \n",
    "generator = TimeSeriesGenerator(n_samples=5000, freq='D')\n",
    "\n",
    "data_series, exog_df, df_ts = generator.gen_determ_data_exo_1(data_inputs={'type': 'random', 'param': 1},\n",
    "                                                              exog_inputs={'type': 'random', 'param': 0.8},\n",
    "                                                              noise_mean=0, noise_var=1, \n",
    "                                                              seasonality=False, trend=False)\n",
    "df_ts"
   ],
   "id": "718977cb76f7c9ff",
   "outputs": [
    {
     "data": {
      "text/plain": [
       "             ts_data    exog_1\n",
       "2023-01-01  3.385250  1.287477\n",
       "2023-01-02 -1.309417 -0.369319\n",
       "2023-01-03  1.155625 -0.728398\n",
       "2023-01-04 -1.191067 -1.498499\n",
       "2023-01-05 -1.288596 -1.245374\n",
       "...              ...       ...\n",
       "2036-09-04 -1.377863  0.177713\n",
       "2036-09-05 -0.563526 -1.353275\n",
       "2036-09-06 -0.585809  0.655027\n",
       "2036-09-07  0.346189  0.720059\n",
       "2036-09-08 -0.187930 -0.264987\n",
       "\n",
       "[5000 rows x 2 columns]"
      ],
      "text/html": [
       "<div>\n",
       "<style scoped>\n",
       "    .dataframe tbody tr th:only-of-type {\n",
       "        vertical-align: middle;\n",
       "    }\n",
       "\n",
       "    .dataframe tbody tr th {\n",
       "        vertical-align: top;\n",
       "    }\n",
       "\n",
       "    .dataframe thead th {\n",
       "        text-align: right;\n",
       "    }\n",
       "</style>\n",
       "<table border=\"1\" class=\"dataframe\">\n",
       "  <thead>\n",
       "    <tr style=\"text-align: right;\">\n",
       "      <th></th>\n",
       "      <th>ts_data</th>\n",
       "      <th>exog_1</th>\n",
       "    </tr>\n",
       "  </thead>\n",
       "  <tbody>\n",
       "    <tr>\n",
       "      <th>2023-01-01</th>\n",
       "      <td>3.385250</td>\n",
       "      <td>1.287477</td>\n",
       "    </tr>\n",
       "    <tr>\n",
       "      <th>2023-01-02</th>\n",
       "      <td>-1.309417</td>\n",
       "      <td>-0.369319</td>\n",
       "    </tr>\n",
       "    <tr>\n",
       "      <th>2023-01-03</th>\n",
       "      <td>1.155625</td>\n",
       "      <td>-0.728398</td>\n",
       "    </tr>\n",
       "    <tr>\n",
       "      <th>2023-01-04</th>\n",
       "      <td>-1.191067</td>\n",
       "      <td>-1.498499</td>\n",
       "    </tr>\n",
       "    <tr>\n",
       "      <th>2023-01-05</th>\n",
       "      <td>-1.288596</td>\n",
       "      <td>-1.245374</td>\n",
       "    </tr>\n",
       "    <tr>\n",
       "      <th>...</th>\n",
       "      <td>...</td>\n",
       "      <td>...</td>\n",
       "    </tr>\n",
       "    <tr>\n",
       "      <th>2036-09-04</th>\n",
       "      <td>-1.377863</td>\n",
       "      <td>0.177713</td>\n",
       "    </tr>\n",
       "    <tr>\n",
       "      <th>2036-09-05</th>\n",
       "      <td>-0.563526</td>\n",
       "      <td>-1.353275</td>\n",
       "    </tr>\n",
       "    <tr>\n",
       "      <th>2036-09-06</th>\n",
       "      <td>-0.585809</td>\n",
       "      <td>0.655027</td>\n",
       "    </tr>\n",
       "    <tr>\n",
       "      <th>2036-09-07</th>\n",
       "      <td>0.346189</td>\n",
       "      <td>0.720059</td>\n",
       "    </tr>\n",
       "    <tr>\n",
       "      <th>2036-09-08</th>\n",
       "      <td>-0.187930</td>\n",
       "      <td>-0.264987</td>\n",
       "    </tr>\n",
       "  </tbody>\n",
       "</table>\n",
       "<p>5000 rows × 2 columns</p>\n",
       "</div>"
      ]
     },
     "execution_count": 2,
     "metadata": {},
     "output_type": "execute_result"
    }
   ],
   "execution_count": 2
  },
  {
   "metadata": {
    "ExecuteTime": {
     "end_time": "2024-09-21T20:07:58.344439Z",
     "start_time": "2024-09-21T20:07:58.329966Z"
    }
   },
   "cell_type": "code",
   "source": [
    "# Example 2: cosine data + linear exog\n",
    "generator = TimeSeriesGenerator(n_samples=5000, freq='D')\n",
    "\n",
    "data_series, exog_df, df_ts = generator.gen_determ_data_exo_1(data_inputs={'type': 'cosine', 'param': 1, 'kwargs':{'period': 365, 'amplitude': 1.5}},\n",
    "                                                              exog_inputs={'type': 'linear', 'param': 0.8, 'kwargs':{'slope': 0.6}},\n",
    "                                                              noise_mean=0, noise_var=1, \n",
    "                                                              seasonality=False, trend=False)\n",
    "df_ts"
   ],
   "id": "51cf432c3c119919",
   "outputs": [
    {
     "data": {
      "text/plain": [
       "                ts_data  exog_1\n",
       "2023-01-01    -0.853512     0.0\n",
       "2023-01-02     3.423736     0.6\n",
       "2023-01-03     3.731976     1.2\n",
       "2023-01-04     2.659296     1.8\n",
       "2023-01-05     3.367896     2.4\n",
       "...                 ...     ...\n",
       "2036-09-04  2398.244361  2997.0\n",
       "2036-09-05  2396.452985  2997.6\n",
       "2036-09-06  2397.432466  2998.2\n",
       "2036-09-07  2398.036097  2998.8\n",
       "2036-09-08  2399.074077  2999.4\n",
       "\n",
       "[5000 rows x 2 columns]"
      ],
      "text/html": [
       "<div>\n",
       "<style scoped>\n",
       "    .dataframe tbody tr th:only-of-type {\n",
       "        vertical-align: middle;\n",
       "    }\n",
       "\n",
       "    .dataframe tbody tr th {\n",
       "        vertical-align: top;\n",
       "    }\n",
       "\n",
       "    .dataframe thead th {\n",
       "        text-align: right;\n",
       "    }\n",
       "</style>\n",
       "<table border=\"1\" class=\"dataframe\">\n",
       "  <thead>\n",
       "    <tr style=\"text-align: right;\">\n",
       "      <th></th>\n",
       "      <th>ts_data</th>\n",
       "      <th>exog_1</th>\n",
       "    </tr>\n",
       "  </thead>\n",
       "  <tbody>\n",
       "    <tr>\n",
       "      <th>2023-01-01</th>\n",
       "      <td>-0.853512</td>\n",
       "      <td>0.0</td>\n",
       "    </tr>\n",
       "    <tr>\n",
       "      <th>2023-01-02</th>\n",
       "      <td>3.423736</td>\n",
       "      <td>0.6</td>\n",
       "    </tr>\n",
       "    <tr>\n",
       "      <th>2023-01-03</th>\n",
       "      <td>3.731976</td>\n",
       "      <td>1.2</td>\n",
       "    </tr>\n",
       "    <tr>\n",
       "      <th>2023-01-04</th>\n",
       "      <td>2.659296</td>\n",
       "      <td>1.8</td>\n",
       "    </tr>\n",
       "    <tr>\n",
       "      <th>2023-01-05</th>\n",
       "      <td>3.367896</td>\n",
       "      <td>2.4</td>\n",
       "    </tr>\n",
       "    <tr>\n",
       "      <th>...</th>\n",
       "      <td>...</td>\n",
       "      <td>...</td>\n",
       "    </tr>\n",
       "    <tr>\n",
       "      <th>2036-09-04</th>\n",
       "      <td>2398.244361</td>\n",
       "      <td>2997.0</td>\n",
       "    </tr>\n",
       "    <tr>\n",
       "      <th>2036-09-05</th>\n",
       "      <td>2396.452985</td>\n",
       "      <td>2997.6</td>\n",
       "    </tr>\n",
       "    <tr>\n",
       "      <th>2036-09-06</th>\n",
       "      <td>2397.432466</td>\n",
       "      <td>2998.2</td>\n",
       "    </tr>\n",
       "    <tr>\n",
       "      <th>2036-09-07</th>\n",
       "      <td>2398.036097</td>\n",
       "      <td>2998.8</td>\n",
       "    </tr>\n",
       "    <tr>\n",
       "      <th>2036-09-08</th>\n",
       "      <td>2399.074077</td>\n",
       "      <td>2999.4</td>\n",
       "    </tr>\n",
       "  </tbody>\n",
       "</table>\n",
       "<p>5000 rows × 2 columns</p>\n",
       "</div>"
      ]
     },
     "execution_count": 3,
     "metadata": {},
     "output_type": "execute_result"
    }
   ],
   "execution_count": 3
  },
  {
   "metadata": {},
   "cell_type": "code",
   "outputs": [],
   "execution_count": null,
   "source": "",
   "id": "e1c38d7be40ec837"
  }
 ],
 "metadata": {
  "kernelspec": {
   "display_name": "Python 3",
   "language": "python",
   "name": "python3"
  },
  "language_info": {
   "codemirror_mode": {
    "name": "ipython",
    "version": 2
   },
   "file_extension": ".py",
   "mimetype": "text/x-python",
   "name": "python",
   "nbconvert_exporter": "python",
   "pygments_lexer": "ipython2",
   "version": "2.7.6"
  }
 },
 "nbformat": 4,
 "nbformat_minor": 5
}
